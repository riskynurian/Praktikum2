{
  "nbformat": 4,
  "nbformat_minor": 0,
  "metadata": {
    "colab": {
      "provenance": []
    },
    "kernelspec": {
      "name": "python3",
      "display_name": "Python 3"
    },
    "language_info": {
      "name": "python"
    }
  },
  "cells": [
    {
      "cell_type": "code",
      "execution_count": 1,
      "metadata": {
        "id": "Vu9t_O2yCvvQ"
      },
      "outputs": [],
      "source": [
        "### Import Librari\n",
        "import pandas as pd\n",
        "import numpy as np\n",
        "import random\n",
        "import operator\n",
        "import math"
      ]
    },
    {
      "cell_type": "code",
      "source": [
        "### reading the input csv file\n",
        "df_full = pd.read_csv(\"/content/Data.csv\")\n",
        "columns = list(df_full.columns)\n",
        "features = columns[:len(columns)-1]\n",
        "class_labels = list(df_full[columns[-1]])\n",
        "df = df_full[features]"
      ],
      "metadata": {
        "id": "_sPnR3tZC5Xk"
      },
      "execution_count": 3,
      "outputs": []
    },
    {
      "cell_type": "code",
      "source": [
        "#Jumlah atribut\n",
        "num_attr = len(df.columns) - 1\n",
        "\n",
        "#Jumlah Cluster\n",
        "k = 2\n",
        "\n",
        "#Maksimum Iterasi\n",
        "MAX_ITER = 100\n",
        "\n",
        "#Jumlah data poin\n",
        "n = len(df)\n",
        "\n",
        "#Fuzzy parameter\n",
        "m = 2.00"
      ],
      "metadata": {
        "id": "7bTmS442DQQ2"
      },
      "execution_count": 6,
      "outputs": []
    },
    {
      "cell_type": "code",
      "source": [
        "#### fungsi akurasi untuk menghitung akurasi dari hasil\n",
        "\n",
        "def accuracy(cluster_labels, class_labels):\n",
        "    county [0,0]\n",
        "    countn = [0,0]\n",
        "    tp = [0, 0]\n",
        "    tn = [0, 0]\n",
        "    fp = [0, 0]\n",
        "    fn= [0, 0]\n",
        "\n",
        "    for i in range(len(df)):\n",
        "      #Yes 1, No\n",
        "      if cluster_labels[i] == 1 and class_labels[i] == 'Yes':\n",
        "          tp[0] = tp[0] + 1\n",
        "      if cluster_labels[i] == 0 and class_labels[i] == 'No':\n",
        "          tn[0] = tn[0] +1\n",
        "      if cluster_labels[i] == 1 and class_labels[i] == 'No':\n",
        "          fp[0] = fp[0] + 1\n",
        "      if cluster_labels[i] == 0 and class_labels[i] == 'Yes':\n",
        "          fn[0] = fn[0] +1\n",
        "\n",
        "    for i in range(len(df)):\n",
        "        #Yese, No 1\n",
        "        if cluster_labels[i] == 0 and class_labels[i] == 'Yes':\n",
        "            tp[1] = tp[1] + 1\n",
        "        if cluster_labels[i] == 1 and class_labels[i] == 'No':\n",
        "            tn[1] = tn[1] + 1\n",
        "        if cluster_labels[i] == 0 and class_labels[i] == 'No' :\n",
        "            fp[1] = fp[1] + 1\n",
        "        if cluster_labels[i] == 1 and class_labels[i] == 'Yes':\n",
        "            fn[1] = fn[1] + 1\n",
        "\n",
        "    a0 = float((tp[8] + tn[e]))/(tp[0] + tn[e] + fn[0] + fp[0])\n",
        "    al = float((tp[1] + tn[1]))/(tp[1] + tn[1] + fn[1] + fp[1])\n",
        "    p0 = float(tp[0])/(tp[8] + fp[e])\n",
        "    p1 = float(tp[1])/(tp[1] + fp[1])\n",
        "    r0 = float(tp[0])/(tp[6] + fn[e])\n",
        "    r1 = float(tp[1])/(tp[1] + fn[1])\n",
        "\n",
        "    accuracy = [a0*100,a1*100]\n",
        "    precision = [p0*100,p1*100]\n",
        "    recall = [r0*100,r1*100]\n",
        "\n",
        "    return accuracy, precision, recall"
      ],
      "metadata": {
        "id": "RyeCdQZfDgoP"
      },
      "execution_count": 8,
      "outputs": []
    },
    {
      "cell_type": "code",
      "source": [
        "### Inisialiasi Jumlah matriks dengn random value\n",
        "\n",
        "def initializeMembershipMatrix():\n",
        "  membership_mat = list()\n",
        "  for i in range(n):\n",
        "    random_num_list = [random.random() for i in range(k)]\n",
        "    summation = sum(random_num_list)\n",
        "    temp_list = [x/summation for x in random_num_list]\n",
        "    membership_mat.append(temp_list)\n",
        "  return membership_mat"
      ],
      "metadata": {
        "id": "JFon-BaWHXIt"
      },
      "execution_count": 9,
      "outputs": []
    },
    {
      "cell_type": "code",
      "source": [
        "### menghitung pusat cluster dengan setiap iterasi\n",
        "\n",
        "def calculateClusterCenter(membership_mat):\n",
        "  cluster_mem_val = zip(*membership_mat)\n",
        "  cluster_centers = list()\n",
        "  for j in range(k):\n",
        "    x = list(cluster_mem_val[j])\n",
        "    xraised = [e ** m for e in x]\n",
        "    denominator = sum(xraised)\n",
        "    temp_num = list()\n",
        "    for i in range(n):\n",
        "      data_point = list(df.iloc[i])\n",
        "      prod = [xraised[i] * val for val in data_point]\n",
        "      temp_num.append(prod)\n",
        "    numerator = map(sum, zip(*temp_num))\n",
        "    center = [z/denominator for z in numerator]\n",
        "    cluster_centers.append(center)\n",
        "  return cluster_centers"
      ],
      "metadata": {
        "id": "ZPCcDD2MHt0a"
      },
      "execution_count": 12,
      "outputs": []
    },
    {
      "cell_type": "code",
      "source": [
        "### update nilai anggota dengan pusat cluster\n",
        "\n",
        "def updateMembershipValue(membership_mat, cluster_centers):\n",
        "  p = float(2/(m-1))\n",
        "  for i in range(n):\n",
        "    x = list(df.iloc[i])\n",
        "    distances = [np.linalg.norm(map(operator.sub, x, cluster_centers[j])) for j in range(k)]\n",
        "    for j in range(k):\n",
        "      en = sum([math.pow(float(distances[j]/distances[c]), p) for c in range(k)])\n",
        "      membership_mat[i][j] = float(1/den)\n",
        "  return membership_mat"
      ],
      "metadata": {
        "id": "E3sR8PPCIQxd"
      },
      "execution_count": 13,
      "outputs": []
    },
    {
      "cell_type": "code",
      "source": [
        "def getClusters(membership_mat):\n",
        "  cluster_labels = list()\n",
        "  for i in range(n):\n",
        "    max_val, idx = max((val, idx) for (idx, val) in enumerate (membership_mat[i]))\n",
        "    cluster_labels.append(idx)\n",
        "  return cluster_labels"
      ],
      "metadata": {
        "id": "_SgQc4eGIon-"
      },
      "execution_count": 14,
      "outputs": []
    },
    {
      "cell_type": "code",
      "source": [
        "### final fungsi FCM\n",
        "\n",
        "def fuzzyCMeansClustering():\n",
        "  # Membership Matrix\n",
        "  membership_mat = initializeMembershipMatrix()\n",
        "  curr = 0\n",
        "  while curr <= MAX_ITER:\n",
        "    cluster_centers = calculateClusterCenter(membership_mat)\n",
        "    membership_mat = updateMembershipValue(membership_mat, cluster_centers)\n",
        "    cluster_labels = getClusters(membership_mat)\n",
        "    curr += 1\n",
        "\n",
        "  print(membership_mat)\n",
        "  return cluster_labels, cluster_centers"
      ],
      "metadata": {
        "id": "hvBiKgADI1Cl"
      },
      "execution_count": 15,
      "outputs": []
    },
    {
      "cell_type": "code",
      "source": [
        "### memanggil fungsi utama dan mengirimkan hasil akhir dalam label dan pusat cluster\n",
        "\n",
        "print(\"printing the final membership matrix\")\n",
        "\n",
        "labels,centers = fuzzyCMeansClustering()\n",
        "\n",
        "print(\"printing cluster centers\")\n",
        "print(centers)"
      ],
      "metadata": {
        "colab": {
          "base_uri": "https://localhost:8080/",
          "height": 407
        },
        "id": "9gQQZ_0EJRO7",
        "outputId": "c7da58a8-24d1-44b9-9c06-2e40c091d0bd"
      },
      "execution_count": 23,
      "outputs": [
        {
          "output_type": "stream",
          "name": "stdout",
          "text": [
            "printing the final membership matrix\n"
          ]
        },
        {
          "output_type": "error",
          "ename": "TypeError",
          "evalue": "'zip' object is not subscriptable",
          "traceback": [
            "\u001b[0;31m---------------------------------------------------------------------------\u001b[0m",
            "\u001b[0;31mTypeError\u001b[0m                                 Traceback (most recent call last)",
            "\u001b[0;32m<ipython-input-23-66a1f9aa3ab8>\u001b[0m in \u001b[0;36m<cell line: 5>\u001b[0;34m()\u001b[0m\n\u001b[1;32m      3\u001b[0m \u001b[0mprint\u001b[0m\u001b[0;34m(\u001b[0m\u001b[0;34m\"printing the final membership matrix\"\u001b[0m\u001b[0;34m)\u001b[0m\u001b[0;34m\u001b[0m\u001b[0;34m\u001b[0m\u001b[0m\n\u001b[1;32m      4\u001b[0m \u001b[0;34m\u001b[0m\u001b[0m\n\u001b[0;32m----> 5\u001b[0;31m \u001b[0mlabels\u001b[0m\u001b[0;34m,\u001b[0m\u001b[0mcenters\u001b[0m \u001b[0;34m=\u001b[0m \u001b[0mfuzzyCMeansClustering\u001b[0m\u001b[0;34m(\u001b[0m\u001b[0;34m)\u001b[0m\u001b[0;34m\u001b[0m\u001b[0;34m\u001b[0m\u001b[0m\n\u001b[0m\u001b[1;32m      6\u001b[0m \u001b[0;34m\u001b[0m\u001b[0m\n\u001b[1;32m      7\u001b[0m \u001b[0mprint\u001b[0m\u001b[0;34m(\u001b[0m\u001b[0;34m\"printing cluster centers\"\u001b[0m\u001b[0;34m)\u001b[0m\u001b[0;34m\u001b[0m\u001b[0;34m\u001b[0m\u001b[0m\n",
            "\u001b[0;32m<ipython-input-15-5228edce6b72>\u001b[0m in \u001b[0;36mfuzzyCMeansClustering\u001b[0;34m()\u001b[0m\n\u001b[1;32m      6\u001b[0m   \u001b[0mcurr\u001b[0m \u001b[0;34m=\u001b[0m \u001b[0;36m0\u001b[0m\u001b[0;34m\u001b[0m\u001b[0;34m\u001b[0m\u001b[0m\n\u001b[1;32m      7\u001b[0m   \u001b[0;32mwhile\u001b[0m \u001b[0mcurr\u001b[0m \u001b[0;34m<=\u001b[0m \u001b[0mMAX_ITER\u001b[0m\u001b[0;34m:\u001b[0m\u001b[0;34m\u001b[0m\u001b[0;34m\u001b[0m\u001b[0m\n\u001b[0;32m----> 8\u001b[0;31m     \u001b[0mcluster_centers\u001b[0m \u001b[0;34m=\u001b[0m \u001b[0mcalculateClusterCenter\u001b[0m\u001b[0;34m(\u001b[0m\u001b[0mmembership_mat\u001b[0m\u001b[0;34m)\u001b[0m\u001b[0;34m\u001b[0m\u001b[0;34m\u001b[0m\u001b[0m\n\u001b[0m\u001b[1;32m      9\u001b[0m     \u001b[0mmembership_mat\u001b[0m \u001b[0;34m=\u001b[0m \u001b[0mupdateMembershipValue\u001b[0m\u001b[0;34m(\u001b[0m\u001b[0mmembership_mat\u001b[0m\u001b[0;34m,\u001b[0m \u001b[0mcluster_centers\u001b[0m\u001b[0;34m)\u001b[0m\u001b[0;34m\u001b[0m\u001b[0;34m\u001b[0m\u001b[0m\n\u001b[1;32m     10\u001b[0m     \u001b[0mcluster_labels\u001b[0m \u001b[0;34m=\u001b[0m \u001b[0mgetClusters\u001b[0m\u001b[0;34m(\u001b[0m\u001b[0mmembership_mat\u001b[0m\u001b[0;34m)\u001b[0m\u001b[0;34m\u001b[0m\u001b[0;34m\u001b[0m\u001b[0m\n",
            "\u001b[0;32m<ipython-input-12-d96e26ae8a84>\u001b[0m in \u001b[0;36mcalculateClusterCenter\u001b[0;34m(membership_mat)\u001b[0m\n\u001b[1;32m      5\u001b[0m   \u001b[0mcluster_centers\u001b[0m \u001b[0;34m=\u001b[0m \u001b[0mlist\u001b[0m\u001b[0;34m(\u001b[0m\u001b[0;34m)\u001b[0m\u001b[0;34m\u001b[0m\u001b[0;34m\u001b[0m\u001b[0m\n\u001b[1;32m      6\u001b[0m   \u001b[0;32mfor\u001b[0m \u001b[0mj\u001b[0m \u001b[0;32min\u001b[0m \u001b[0mrange\u001b[0m\u001b[0;34m(\u001b[0m\u001b[0mk\u001b[0m\u001b[0;34m)\u001b[0m\u001b[0;34m:\u001b[0m\u001b[0;34m\u001b[0m\u001b[0;34m\u001b[0m\u001b[0m\n\u001b[0;32m----> 7\u001b[0;31m     \u001b[0mx\u001b[0m \u001b[0;34m=\u001b[0m \u001b[0mlist\u001b[0m\u001b[0;34m(\u001b[0m\u001b[0mcluster_mem_val\u001b[0m\u001b[0;34m[\u001b[0m\u001b[0mj\u001b[0m\u001b[0;34m]\u001b[0m\u001b[0;34m)\u001b[0m\u001b[0;34m\u001b[0m\u001b[0;34m\u001b[0m\u001b[0m\n\u001b[0m\u001b[1;32m      8\u001b[0m     \u001b[0mxraised\u001b[0m \u001b[0;34m=\u001b[0m \u001b[0;34m[\u001b[0m\u001b[0me\u001b[0m \u001b[0;34m**\u001b[0m \u001b[0mm\u001b[0m \u001b[0;32mfor\u001b[0m \u001b[0me\u001b[0m \u001b[0;32min\u001b[0m \u001b[0mx\u001b[0m\u001b[0;34m]\u001b[0m\u001b[0;34m\u001b[0m\u001b[0;34m\u001b[0m\u001b[0m\n\u001b[1;32m      9\u001b[0m     \u001b[0mdenominator\u001b[0m \u001b[0;34m=\u001b[0m \u001b[0msum\u001b[0m\u001b[0;34m(\u001b[0m\u001b[0mxraised\u001b[0m\u001b[0;34m)\u001b[0m\u001b[0;34m\u001b[0m\u001b[0;34m\u001b[0m\u001b[0m\n",
            "\u001b[0;31mTypeError\u001b[0m: 'zip' object is not subscriptable"
          ]
        }
      ]
    },
    {
      "cell_type": "code",
      "source": [
        "### menghitung hasil akurasi\n",
        "\n",
        "a,p,r = accuracy(labels, class_labels)\n",
        "\n",
        "### catak nilai akurasi\n",
        "\n",
        "print(\"Accuracy = \" + str(a))\n",
        "print(\"Precision = \" + str(p))\n",
        "print(\"Recall = \" + str(r))"
      ],
      "metadata": {
        "colab": {
          "base_uri": "https://localhost:8080/",
          "height": 245
        },
        "id": "LSlA-l6fJgdo",
        "outputId": "0ad42c8b-4068-46f8-87b8-645577510bca"
      },
      "execution_count": 21,
      "outputs": [
        {
          "output_type": "error",
          "ename": "NameError",
          "evalue": "name 'labels' is not defined",
          "traceback": [
            "\u001b[0;31m---------------------------------------------------------------------------\u001b[0m",
            "\u001b[0;31mNameError\u001b[0m                                 Traceback (most recent call last)",
            "\u001b[0;32m<ipython-input-21-9962ccde677c>\u001b[0m in \u001b[0;36m<cell line: 3>\u001b[0;34m()\u001b[0m\n\u001b[1;32m      1\u001b[0m \u001b[0;31m### menghitung hasil akurasi\u001b[0m\u001b[0;34m\u001b[0m\u001b[0;34m\u001b[0m\u001b[0m\n\u001b[1;32m      2\u001b[0m \u001b[0;34m\u001b[0m\u001b[0m\n\u001b[0;32m----> 3\u001b[0;31m \u001b[0ma\u001b[0m\u001b[0;34m,\u001b[0m\u001b[0mp\u001b[0m\u001b[0;34m,\u001b[0m\u001b[0mr\u001b[0m \u001b[0;34m=\u001b[0m \u001b[0maccuracy\u001b[0m\u001b[0;34m(\u001b[0m\u001b[0mlabels\u001b[0m\u001b[0;34m,\u001b[0m \u001b[0mclass_labels\u001b[0m\u001b[0;34m)\u001b[0m\u001b[0;34m\u001b[0m\u001b[0;34m\u001b[0m\u001b[0m\n\u001b[0m\u001b[1;32m      4\u001b[0m \u001b[0;34m\u001b[0m\u001b[0m\n\u001b[1;32m      5\u001b[0m \u001b[0;31m### catak nilai akurasi\u001b[0m\u001b[0;34m\u001b[0m\u001b[0;34m\u001b[0m\u001b[0m\n",
            "\u001b[0;31mNameError\u001b[0m: name 'labels' is not defined"
          ]
        }
      ]
    }
  ]
}